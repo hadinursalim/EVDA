{
  "nbformat": 4,
  "nbformat_minor": 0,
  "metadata": {
    "colab": {
      "name": "Analisis sentimen pada tweet Anies Rasyid Baswedan.ipynb",
      "provenance": [],
      "collapsed_sections": [],
      "authorship_tag": "ABX9TyPkSG0o9Q3JVlazjxCxR28z",
      "include_colab_link": true
    },
    "kernelspec": {
      "name": "python3",
      "display_name": "Python 3"
    },
    "language_info": {
      "name": "python"
    },
    "accelerator": "GPU"
  },
  "cells": [
    {
      "cell_type": "markdown",
      "metadata": {
        "id": "view-in-github",
        "colab_type": "text"
      },
      "source": [
        "<a href=\"https://colab.research.google.com/github/hadinursalim/EVDA/blob/main/Analisis_sentimen_pada_tweet_Anies_Rasyid_Baswedan.ipynb\" target=\"_parent\"><img src=\"https://colab.research.google.com/assets/colab-badge.svg\" alt=\"Open In Colab\"/></a>"
      ]
    },
    {
      "cell_type": "markdown",
      "source": [
        "**Analisis sentimen pada tweet Anies Rasyid Baswedan**"
      ],
      "metadata": {
        "id": "0-9bnMtFvzFu"
      }
    },
    {
      "cell_type": "markdown",
      "source": [
        "**KETERANGAN**:\n",
        "Dalam code ini, saya akan:\n",
        "* Mengekstrak data twitter menggunakan tweepy dan cara menanganinya menggunakan panda.\n",
        "* Melakukan beberapa statistik dan visualisasi dasar dengan numpy, matplotlib dan seaborn.\n",
        "* Melakukan analisis sentimen dari tweet yang diekstraksi (Anies Baswedan) menggunakan textblob."
      ],
      "metadata": {
        "id": "mV9opNsww3oL"
      }
    },
    {
      "cell_type": "markdown",
      "source": [
        "**1. Mengekstrak data twitter**"
      ],
      "metadata": {
        "id": "udrZIMmwyMLg"
      }
    },
    {
      "cell_type": "markdown",
      "source": [
        "1.1 Import library"
      ],
      "metadata": {
        "id": "jA-kaSAbzWSd"
      }
    },
    {
      "cell_type": "code",
      "source": [
        "# General:\n",
        "import tweepy           # To consume Twitter's API\n",
        "import pandas as pd     # To handle data\n",
        "import numpy as np      # For number computing\n",
        "\n",
        "# For plotting and visualization:\n",
        "from IPython.display import display\n",
        "import matplotlib.pyplot as plt\n",
        "import seaborn as sns\n",
        "%matplotlib inline"
      ],
      "metadata": {
        "id": "Ip2ys03AC_aB"
      },
      "execution_count": null,
      "outputs": []
    },
    {
      "cell_type": "markdown",
      "source": [
        "1.2 Membuat Aplikasi twitter\n",
        "\n",
        "Untuk mengekstrak tweet untuk analisis posterior, kita perlu mengakses akun Twitter kita dan membuat aplikasi.\n",
        "Situs web untuk melakukan ini adalah https://apps.twitter.com/"
      ],
      "metadata": {
        "id": "tegZj9wqzcLE"
      }
    },
    {
      "cell_type": "code",
      "source": [
        "# Twitter App access keys for @user\n",
        "\n",
        "# Consume:\n",
        "CONSUMER_KEY    = 'xxxx'\n",
        "CONSUMER_SECRET = 'xxxx'\n",
        "\n",
        "# Access:\n",
        "ACCESS_TOKEN  = 'xxxx'\n",
        "ACCESS_SECRET = 'xxxx'"
      ],
      "metadata": {
        "id": "Xep4_zppDDUQ"
      },
      "execution_count": null,
      "outputs": []
    },
    {
      "cell_type": "code",
      "source": [
        "!pip install credentials"
      ],
      "metadata": {
        "colab": {
          "base_uri": "https://localhost:8080/"
        },
        "id": "JZsDDviyDkRi",
        "outputId": "423544bc-9526-4b9e-faa9-5b3387fb1fa8"
      },
      "execution_count": null,
      "outputs": [
        {
          "output_type": "stream",
          "name": "stdout",
          "text": [
            "Looking in indexes: https://pypi.org/simple, https://us-python.pkg.dev/colab-wheels/public/simple/\n",
            "Collecting credentials\n",
            "  Downloading credentials-1.1-py2.py3-none-any.whl (4.2 kB)\n",
            "Installing collected packages: credentials\n",
            "Successfully installed credentials-1.1\n"
          ]
        }
      ]
    },
    {
      "cell_type": "code",
      "source": [
        "# We import our access keys:\n",
        "from credentials import *    # This will allow us to use the keys as variables\n",
        "\n",
        "# API's setup:\n",
        "def twitter_setup():\n",
        "    \"\"\"\n",
        "    Utility function to setup the Twitter's API\n",
        "    with our access keys provided.\n",
        "    \"\"\"\n",
        "    # Authentication and access using keys:\n",
        "    auth = tweepy.OAuthHandler(CONSUMER_KEY, CONSUMER_SECRET)\n",
        "    auth.set_access_token(ACCESS_TOKEN, ACCESS_SECRET)\n",
        "\n",
        "    # Return API with authentication:\n",
        "    api = tweepy.API(auth)\n",
        "    return api"
      ],
      "metadata": {
        "id": "-NyaIkXHDYYH"
      },
      "execution_count": null,
      "outputs": []
    },
    {
      "cell_type": "markdown",
      "source": [
        "1.3 Ekstraksi Tweet\n",
        "\n",
        "Sekarang setelah kita membuat fungsi untuk menyiapkan Twitter API, kita dapat menggunakan fungsi ini untuk membuat objek \"ekstraktor\". Setelah ini, kita akan menggunakan fungsi Tweepy extractor.user_timeline(screen_name, count) untuk mengekstrak dari pengguna screen_name jumlah tweet yang dihitung.\n",
        "\n",
        "Seperti yang disebutkan dalam judul, saya telah memilih @aniesbaswedan sebagai pengguna untuk mengekstrak data untuk analisis posterior.\n",
        "\n",
        "Cara mengekstrak data Twitter adalah sebagai berikut:"
      ],
      "metadata": {
        "id": "H1wmRnqw08ve"
      }
    },
    {
      "cell_type": "code",
      "source": [
        "!pip install extractor"
      ],
      "metadata": {
        "colab": {
          "base_uri": "https://localhost:8080/"
        },
        "id": "c21VwlXiD10Y",
        "outputId": "359c08b8-f4a7-43ac-ab70-5b0918a7fb3c"
      },
      "execution_count": null,
      "outputs": [
        {
          "output_type": "stream",
          "name": "stdout",
          "text": [
            "Looking in indexes: https://pypi.org/simple, https://us-python.pkg.dev/colab-wheels/public/simple/\n",
            "Collecting extractor\n",
            "  Downloading Extractor-0.5.tar.gz (6.0 kB)\n",
            "Building wheels for collected packages: extractor\n",
            "  Building wheel for extractor (setup.py) ... \u001b[?25l\u001b[?25hdone\n",
            "  Created wheel for extractor: filename=Extractor-0.5-py3-none-any.whl size=7051 sha256=dacc870f234f4b7673d7f8a44aeea02750675144d23c7ceeea91c2fd62a34239\n",
            "  Stored in directory: /root/.cache/pip/wheels/9f/c3/67/ad8528a27a6b3a32a9d85c6305ff881e31d54aa856c5bd3824\n",
            "Successfully built extractor\n",
            "Installing collected packages: extractor\n",
            "Successfully installed extractor-0.5\n"
          ]
        }
      ]
    },
    {
      "cell_type": "code",
      "source": [
        "# We create an extractor object:\n",
        "extractor = twitter_setup()\n",
        "\n",
        "# We create a tweet list as follows:\n",
        "tweets = extractor.user_timeline(screen_name=\"luhut_binsar\", count=500)\n",
        "print(\"Number of tweets extracted: {}.\\n\".format(len(tweets)))\n",
        "\n",
        "# We print the most recent 20 tweets:\n",
        "print(\"20 recent tweets:\\n\")\n",
        "for tweet in tweets[:20]:\n",
        "    print(tweet.text)\n",
        "    print()"
      ],
      "metadata": {
        "colab": {
          "base_uri": "https://localhost:8080/"
        },
        "id": "1y-crazUDvoP",
        "outputId": "7395375c-c387-4e38-d101-1f1bcbdb886b"
      },
      "execution_count": null,
      "outputs": [
        {
          "output_type": "stream",
          "name": "stdout",
          "text": [
            "Number of tweets extracted: 153.\n",
            "\n",
            "20 recent tweets:\n",
            "\n",
            "Tak hanya menghasilkan sumber energi hijau, Luhut menyebutkan kawasan ini akan membuat Indonesia mampu mencapai tar… https://t.co/M8vTQsdwJl\n",
            "\n",
            "Pak Luhut mengatakan kawasan industri itu akan didukung oleh sumber energi hijau dari pembangkit listrik tenaga air… https://t.co/v5HcZFTn5K\n",
            "\n",
            "Menko Marves Luhut Pandjaitan menginformasikan, jika Indonesia akan mempunyai kawasan industri hijau terintegrasi d… https://t.co/AcKZ3oodpB\n",
            "\n",
            "Target pembangunan bendungan ini dapat rampung di Juli 2021, lebih cepat dari rencana awal pada Oktober 2021 dan De… https://t.co/CILJneGvRn\n",
            "\n",
            "Pembangunan kedua bendungan itu dinilai penting sebagai upaya penanganan banjir di Jakarta. Pak Luhut pun meminta a… https://t.co/SU3oj3Rdm4\n",
            "\n",
            "Menko Marves Luhut Pandjaitan meninjau langsung proyek pembangunan Bendungan Ciawi (Cipayung) &amp; Bendungan Sukamahi… https://t.co/tviWJSynvE\n",
            "\n",
            "Dengan peran substansial kyai dalam proses berbangsa &amp; bernegara, pak Luhut ingin para kyai secepatnya di vaksin… https://t.co/oPo0tCXTuc\n",
            "\n",
            "\"Saya merasa berdosa sekali karena sudah berkali-kali janji untuk datang sowan ke para kyai sepuh yang sangat saya… https://t.co/9duN4asugS\n",
            "\n",
            "Menko Marves Luhut Pandjaitan melakukan kunjungan guna menemui para kyai sepuh. Pak Luhut pun menyebut relasi bersa… https://t.co/NK988OqPgJ\n",
            "\n",
            "Menko Luhut berharap, semua pihak dapat mengejar target yang mengalami keterlambatan. Evaluasi terkait pembangunan… https://t.co/9hTYPCJDr2\n",
            "\n",
            "Menko Marves, Luhut Pandjaitan kembali mengevaluasi perkembangan pembangunan Light Rail Transit (LRT) Jabodetabek.… https://t.co/gmRsFLRGAx\n",
            "\n",
            "Pada kejuaraan yang akan berlangsung di National Stadium Tokyo, 9 Mei itu, #Zohri akan diikutkan pada nomor lari 10… https://t.co/iRgkmMoamS\n",
            "\n",
            "Dalam kunjungannya, pak Luhut mengaku optimistis dua wakil Indonesia tersebut bisa mengeluarkan performa terbaik me… https://t.co/agjVqB8615\n",
            "\n",
            "Ketum @PBPASI Luhut Pandjaitan memantau persiapan Lalu Muhammad Zohri dan Sapwaturrahman di Stadion Madya Gelora Bu… https://t.co/HsoKwjpL80\n",
            "\n",
            "Pasalnya, pak Luhut ingin secara khusus bersilaturahmi ke tokoh ulama yang juga keturunan dari Kiai Syaichona Choli… https://t.co/tGIKm5bwpt\n",
            "\n",
            "Menko Marves Luhut Pandjaitan bersama Gubernur Jawa Timur @KhofifahIP dan  Bupati Bangkalan #AbdulLatifAmin mendata… https://t.co/qmCTLinHTD\n",
            "\n",
            "SELAMAT HARI PENDIDIKAN NASIONAL\n",
            "\n",
            "Ing Ngarso Sung Tulodho\n",
            "Ing Madyo Mangun Karso\n",
            "Tut Wuri Handayani (Ki Hajar Dewan… https://t.co/8ddVp6udTP\n",
            "\n",
            "Selamat Hari Buruh Internasional!\n",
            "\n",
            "Semangat produktif dan kreatif membangun untuk kehidupan yang lebih baik demi ke… https://t.co/D87ZLCpkhK\n",
            "\n",
            "Selain itu Del juga memberikan program beasiswa tanpa membedakan status maupun golongan\n",
            "\n",
            "#YayasanDel sendiri bergerak di sektor pendidikan, teknologi, kesehatan, kemanusiaan dan membangun panti asuhan\n",
            "\n"
          ]
        }
      ]
    },
    {
      "cell_type": "markdown",
      "source": [
        "Kita sekarang memiliki ekstraktor dan data yang diekstraksi, yang tercantum dalam variabel tweets. Saya harus menyebutkan pada titik ini bahwa setiap elemen dalam daftar itu adalah objek tweet dari Tweepy, dan kita akan menangani data ini."
      ],
      "metadata": {
        "id": "Z6RROyVO1tzk"
      }
    },
    {
      "cell_type": "markdown",
      "source": [
        "1.4 Membuat Dataframe"
      ],
      "metadata": {
        "id": "eqhdt6__5HXM"
      }
    },
    {
      "cell_type": "code",
      "source": [
        "# We create a pandas dataframe as follows:\n",
        "data = pd.DataFrame(data=[tweet.text for tweet in tweets], columns=['Tweets'])\n",
        "\n",
        "# We display the first 20 elements of the dataframe:\n",
        "display(data.head(20))"
      ],
      "metadata": {
        "colab": {
          "base_uri": "https://localhost:8080/",
          "height": 677
        },
        "id": "HHkHfEbTEv-U",
        "outputId": "4d654a53-95da-4774-92c2-de4252d7dea1"
      },
      "execution_count": null,
      "outputs": [
        {
          "output_type": "display_data",
          "data": {
            "text/plain": [
              "                                               Tweets\n",
              "0   Tak hanya menghasilkan sumber energi hijau, Lu...\n",
              "1   Pak Luhut mengatakan kawasan industri itu akan...\n",
              "2   Menko Marves Luhut Pandjaitan menginformasikan...\n",
              "3   Target pembangunan bendungan ini dapat rampung...\n",
              "4   Pembangunan kedua bendungan itu dinilai pentin...\n",
              "5   Menko Marves Luhut Pandjaitan meninjau langsun...\n",
              "6   Dengan peran substansial kyai dalam proses ber...\n",
              "7   \"Saya merasa berdosa sekali karena sudah berka...\n",
              "8   Menko Marves Luhut Pandjaitan melakukan kunjun...\n",
              "9   Menko Luhut berharap, semua pihak dapat mengej...\n",
              "10  Menko Marves, Luhut Pandjaitan kembali mengeva...\n",
              "11  Pada kejuaraan yang akan berlangsung di Nation...\n",
              "12  Dalam kunjungannya, pak Luhut mengaku optimist...\n",
              "13  Ketum @PBPASI Luhut Pandjaitan memantau persia...\n",
              "14  Pasalnya, pak Luhut ingin secara khusus bersil...\n",
              "15  Menko Marves Luhut Pandjaitan bersama Gubernur...\n",
              "16  SELAMAT HARI PENDIDIKAN NASIONAL\\n\\nIng Ngarso...\n",
              "17  Selamat Hari Buruh Internasional!\\n\\nSemangat ...\n",
              "18  Selain itu Del juga memberikan program beasisw...\n",
              "19  #YayasanDel sendiri bergerak di sektor pendidi..."
            ],
            "text/html": [
              "\n",
              "  <div id=\"df-56cbf381-ba41-487c-9b14-410fdba18560\">\n",
              "    <div class=\"colab-df-container\">\n",
              "      <div>\n",
              "<style scoped>\n",
              "    .dataframe tbody tr th:only-of-type {\n",
              "        vertical-align: middle;\n",
              "    }\n",
              "\n",
              "    .dataframe tbody tr th {\n",
              "        vertical-align: top;\n",
              "    }\n",
              "\n",
              "    .dataframe thead th {\n",
              "        text-align: right;\n",
              "    }\n",
              "</style>\n",
              "<table border=\"1\" class=\"dataframe\">\n",
              "  <thead>\n",
              "    <tr style=\"text-align: right;\">\n",
              "      <th></th>\n",
              "      <th>Tweets</th>\n",
              "    </tr>\n",
              "  </thead>\n",
              "  <tbody>\n",
              "    <tr>\n",
              "      <th>0</th>\n",
              "      <td>Tak hanya menghasilkan sumber energi hijau, Lu...</td>\n",
              "    </tr>\n",
              "    <tr>\n",
              "      <th>1</th>\n",
              "      <td>Pak Luhut mengatakan kawasan industri itu akan...</td>\n",
              "    </tr>\n",
              "    <tr>\n",
              "      <th>2</th>\n",
              "      <td>Menko Marves Luhut Pandjaitan menginformasikan...</td>\n",
              "    </tr>\n",
              "    <tr>\n",
              "      <th>3</th>\n",
              "      <td>Target pembangunan bendungan ini dapat rampung...</td>\n",
              "    </tr>\n",
              "    <tr>\n",
              "      <th>4</th>\n",
              "      <td>Pembangunan kedua bendungan itu dinilai pentin...</td>\n",
              "    </tr>\n",
              "    <tr>\n",
              "      <th>5</th>\n",
              "      <td>Menko Marves Luhut Pandjaitan meninjau langsun...</td>\n",
              "    </tr>\n",
              "    <tr>\n",
              "      <th>6</th>\n",
              "      <td>Dengan peran substansial kyai dalam proses ber...</td>\n",
              "    </tr>\n",
              "    <tr>\n",
              "      <th>7</th>\n",
              "      <td>\"Saya merasa berdosa sekali karena sudah berka...</td>\n",
              "    </tr>\n",
              "    <tr>\n",
              "      <th>8</th>\n",
              "      <td>Menko Marves Luhut Pandjaitan melakukan kunjun...</td>\n",
              "    </tr>\n",
              "    <tr>\n",
              "      <th>9</th>\n",
              "      <td>Menko Luhut berharap, semua pihak dapat mengej...</td>\n",
              "    </tr>\n",
              "    <tr>\n",
              "      <th>10</th>\n",
              "      <td>Menko Marves, Luhut Pandjaitan kembali mengeva...</td>\n",
              "    </tr>\n",
              "    <tr>\n",
              "      <th>11</th>\n",
              "      <td>Pada kejuaraan yang akan berlangsung di Nation...</td>\n",
              "    </tr>\n",
              "    <tr>\n",
              "      <th>12</th>\n",
              "      <td>Dalam kunjungannya, pak Luhut mengaku optimist...</td>\n",
              "    </tr>\n",
              "    <tr>\n",
              "      <th>13</th>\n",
              "      <td>Ketum @PBPASI Luhut Pandjaitan memantau persia...</td>\n",
              "    </tr>\n",
              "    <tr>\n",
              "      <th>14</th>\n",
              "      <td>Pasalnya, pak Luhut ingin secara khusus bersil...</td>\n",
              "    </tr>\n",
              "    <tr>\n",
              "      <th>15</th>\n",
              "      <td>Menko Marves Luhut Pandjaitan bersama Gubernur...</td>\n",
              "    </tr>\n",
              "    <tr>\n",
              "      <th>16</th>\n",
              "      <td>SELAMAT HARI PENDIDIKAN NASIONAL\\n\\nIng Ngarso...</td>\n",
              "    </tr>\n",
              "    <tr>\n",
              "      <th>17</th>\n",
              "      <td>Selamat Hari Buruh Internasional!\\n\\nSemangat ...</td>\n",
              "    </tr>\n",
              "    <tr>\n",
              "      <th>18</th>\n",
              "      <td>Selain itu Del juga memberikan program beasisw...</td>\n",
              "    </tr>\n",
              "    <tr>\n",
              "      <th>19</th>\n",
              "      <td>#YayasanDel sendiri bergerak di sektor pendidi...</td>\n",
              "    </tr>\n",
              "  </tbody>\n",
              "</table>\n",
              "</div>\n",
              "      <button class=\"colab-df-convert\" onclick=\"convertToInteractive('df-56cbf381-ba41-487c-9b14-410fdba18560')\"\n",
              "              title=\"Convert this dataframe to an interactive table.\"\n",
              "              style=\"display:none;\">\n",
              "        \n",
              "  <svg xmlns=\"http://www.w3.org/2000/svg\" height=\"24px\"viewBox=\"0 0 24 24\"\n",
              "       width=\"24px\">\n",
              "    <path d=\"M0 0h24v24H0V0z\" fill=\"none\"/>\n",
              "    <path d=\"M18.56 5.44l.94 2.06.94-2.06 2.06-.94-2.06-.94-.94-2.06-.94 2.06-2.06.94zm-11 1L8.5 8.5l.94-2.06 2.06-.94-2.06-.94L8.5 2.5l-.94 2.06-2.06.94zm10 10l.94 2.06.94-2.06 2.06-.94-2.06-.94-.94-2.06-.94 2.06-2.06.94z\"/><path d=\"M17.41 7.96l-1.37-1.37c-.4-.4-.92-.59-1.43-.59-.52 0-1.04.2-1.43.59L10.3 9.45l-7.72 7.72c-.78.78-.78 2.05 0 2.83L4 21.41c.39.39.9.59 1.41.59.51 0 1.02-.2 1.41-.59l7.78-7.78 2.81-2.81c.8-.78.8-2.07 0-2.86zM5.41 20L4 18.59l7.72-7.72 1.47 1.35L5.41 20z\"/>\n",
              "  </svg>\n",
              "      </button>\n",
              "      \n",
              "  <style>\n",
              "    .colab-df-container {\n",
              "      display:flex;\n",
              "      flex-wrap:wrap;\n",
              "      gap: 12px;\n",
              "    }\n",
              "\n",
              "    .colab-df-convert {\n",
              "      background-color: #E8F0FE;\n",
              "      border: none;\n",
              "      border-radius: 50%;\n",
              "      cursor: pointer;\n",
              "      display: none;\n",
              "      fill: #1967D2;\n",
              "      height: 32px;\n",
              "      padding: 0 0 0 0;\n",
              "      width: 32px;\n",
              "    }\n",
              "\n",
              "    .colab-df-convert:hover {\n",
              "      background-color: #E2EBFA;\n",
              "      box-shadow: 0px 1px 2px rgba(60, 64, 67, 0.3), 0px 1px 3px 1px rgba(60, 64, 67, 0.15);\n",
              "      fill: #174EA6;\n",
              "    }\n",
              "\n",
              "    [theme=dark] .colab-df-convert {\n",
              "      background-color: #3B4455;\n",
              "      fill: #D2E3FC;\n",
              "    }\n",
              "\n",
              "    [theme=dark] .colab-df-convert:hover {\n",
              "      background-color: #434B5C;\n",
              "      box-shadow: 0px 1px 3px 1px rgba(0, 0, 0, 0.15);\n",
              "      filter: drop-shadow(0px 1px 2px rgba(0, 0, 0, 0.3));\n",
              "      fill: #FFFFFF;\n",
              "    }\n",
              "  </style>\n",
              "\n",
              "      <script>\n",
              "        const buttonEl =\n",
              "          document.querySelector('#df-56cbf381-ba41-487c-9b14-410fdba18560 button.colab-df-convert');\n",
              "        buttonEl.style.display =\n",
              "          google.colab.kernel.accessAllowed ? 'block' : 'none';\n",
              "\n",
              "        async function convertToInteractive(key) {\n",
              "          const element = document.querySelector('#df-56cbf381-ba41-487c-9b14-410fdba18560');\n",
              "          const dataTable =\n",
              "            await google.colab.kernel.invokeFunction('convertToInteractive',\n",
              "                                                     [key], {});\n",
              "          if (!dataTable) return;\n",
              "\n",
              "          const docLinkHtml = 'Like what you see? Visit the ' +\n",
              "            '<a target=\"_blank\" href=https://colab.research.google.com/notebooks/data_table.ipynb>data table notebook</a>'\n",
              "            + ' to learn more about interactive tables.';\n",
              "          element.innerHTML = '';\n",
              "          dataTable['output_type'] = 'display_data';\n",
              "          await google.colab.output.renderOutput(dataTable, element);\n",
              "          const docLink = document.createElement('div');\n",
              "          docLink.innerHTML = docLinkHtml;\n",
              "          element.appendChild(docLink);\n",
              "        }\n",
              "      </script>\n",
              "    </div>\n",
              "  </div>\n",
              "  "
            ]
          },
          "metadata": {}
        }
      ]
    },
    {
      "cell_type": "markdown",
      "source": [
        "Jadi kita sekarang memiliki tabel yang bagus dengan data yang dipesan.\n",
        "\n",
        "Hal yang menarik adalah jumlah metode internal yang dimiliki struktur tweet di Tweepy:"
      ],
      "metadata": {
        "id": "8z9CG4em5qLo"
      }
    },
    {
      "cell_type": "code",
      "source": [
        "# Internal methods of a single tweet object:\n",
        "print(dir(tweets[0]))"
      ],
      "metadata": {
        "colab": {
          "base_uri": "https://localhost:8080/"
        },
        "id": "Q3E2D_pJE40o",
        "outputId": "61575c02-4a10-4ef1-d6d6-0cb833edb73c"
      },
      "execution_count": null,
      "outputs": [
        {
          "output_type": "stream",
          "name": "stdout",
          "text": [
            "['__class__', '__delattr__', '__dict__', '__dir__', '__doc__', '__eq__', '__format__', '__ge__', '__getattribute__', '__getstate__', '__gt__', '__hash__', '__init__', '__init_subclass__', '__le__', '__lt__', '__module__', '__ne__', '__new__', '__reduce__', '__reduce_ex__', '__repr__', '__setattr__', '__sizeof__', '__str__', '__subclasshook__', '__weakref__', '_api', '_json', 'author', 'contributors', 'coordinates', 'created_at', 'destroy', 'entities', 'favorite', 'favorite_count', 'favorited', 'geo', 'id', 'id_str', 'in_reply_to_screen_name', 'in_reply_to_status_id', 'in_reply_to_status_id_str', 'in_reply_to_user_id', 'in_reply_to_user_id_str', 'is_quote_status', 'lang', 'parse', 'parse_list', 'place', 'retweet', 'retweet_count', 'retweeted', 'retweets', 'source', 'source_url', 'text', 'truncated', 'user']\n"
          ]
        }
      ]
    },
    {
      "cell_type": "markdown",
      "source": [
        "Bagian yang menarik dari sini adalah jumlah metadata yang terkandung dalam satu tweet. Jika kita ingin mendapatkan data seperti tanggal pembuatan, atau sumber pembuatan, kita dapat mengakses info dengan atribut ini. Contohnya adalah sebagai berikut:"
      ],
      "metadata": {
        "id": "oH3UVv7Y50fF"
      }
    },
    {
      "cell_type": "code",
      "source": [
        "# We print info from the first tweet:\n",
        "print(tweets[0].id)\n",
        "print(tweets[0].created_at)\n",
        "print(tweets[0].source)\n",
        "print(tweets[0].favorite_count)\n",
        "print(tweets[0].retweet_count)\n",
        "print(tweets[0].geo)\n",
        "print(tweets[0].coordinates)\n",
        "print(tweets[0].entities)"
      ],
      "metadata": {
        "colab": {
          "base_uri": "https://localhost:8080/"
        },
        "id": "aMVfA4SEE9Q7",
        "outputId": "bb706355-8d9d-450b-a485-977c7fddf01c"
      },
      "execution_count": null,
      "outputs": [
        {
          "output_type": "stream",
          "name": "stdout",
          "text": [
            "1390983141779640320\n",
            "2021-05-08 10:53:18\n",
            "Twitter for Android\n",
            "13\n",
            "1\n",
            "None\n",
            "None\n",
            "{'hashtags': [], 'symbols': [], 'user_mentions': [], 'urls': [{'url': 'https://t.co/M8vTQsdwJl', 'expanded_url': 'https://twitter.com/i/web/status/1390983141779640320', 'display_url': 'twitter.com/i/web/status/1…', 'indices': [117, 140]}]}\n"
          ]
        }
      ]
    },
    {
      "cell_type": "code",
      "source": [
        "# We add relevant data:\n",
        "data['len']  = np.array([len(tweet.text) for tweet in tweets])\n",
        "data['ID']   = np.array([tweet.id for tweet in tweets])\n",
        "data['Date'] = np.array([tweet.created_at for tweet in tweets])\n",
        "data['Source'] = np.array([tweet.source for tweet in tweets])\n",
        "data['Likes']  = np.array([tweet.favorite_count for tweet in tweets])\n",
        "data['RTs']    = np.array([tweet.retweet_count for tweet in tweets])"
      ],
      "metadata": {
        "id": "yvP37q79FEki"
      },
      "execution_count": null,
      "outputs": []
    },
    {
      "cell_type": "code",
      "source": [
        "# Display of first 20 elements from dataframe:\n",
        "display(data.head(20))"
      ],
      "metadata": {
        "colab": {
          "base_uri": "https://localhost:8080/",
          "height": 677
        },
        "id": "YeqJYgQtFH3c",
        "outputId": "9d012e1f-949a-40be-bb11-fa899ab2f5aa"
      },
      "execution_count": null,
      "outputs": [
        {
          "output_type": "display_data",
          "data": {
            "text/plain": [
              "                                               Tweets  len  \\\n",
              "0   Tak hanya menghasilkan sumber energi hijau, Lu...  140   \n",
              "1   Pak Luhut mengatakan kawasan industri itu akan...  140   \n",
              "2   Menko Marves Luhut Pandjaitan menginformasikan...  140   \n",
              "3   Target pembangunan bendungan ini dapat rampung...  140   \n",
              "4   Pembangunan kedua bendungan itu dinilai pentin...  140   \n",
              "5   Menko Marves Luhut Pandjaitan meninjau langsun...  143   \n",
              "6   Dengan peran substansial kyai dalam proses ber...  141   \n",
              "7   \"Saya merasa berdosa sekali karena sudah berka...  139   \n",
              "8   Menko Marves Luhut Pandjaitan melakukan kunjun...  140   \n",
              "9   Menko Luhut berharap, semua pihak dapat mengej...  139   \n",
              "10  Menko Marves, Luhut Pandjaitan kembali mengeva...  139   \n",
              "11  Pada kejuaraan yang akan berlangsung di Nation...  140   \n",
              "12  Dalam kunjungannya, pak Luhut mengaku optimist...  140   \n",
              "13  Ketum @PBPASI Luhut Pandjaitan memantau persia...  140   \n",
              "14  Pasalnya, pak Luhut ingin secara khusus bersil...  140   \n",
              "15  Menko Marves Luhut Pandjaitan bersama Gubernur...  140   \n",
              "16  SELAMAT HARI PENDIDIKAN NASIONAL\\n\\nIng Ngarso...  140   \n",
              "17  Selamat Hari Buruh Internasional!\\n\\nSemangat ...  140   \n",
              "18  Selain itu Del juga memberikan program beasisw...   87   \n",
              "19  #YayasanDel sendiri bergerak di sektor pendidi...  111   \n",
              "\n",
              "                     ID                Date               Source  Likes  RTs  \n",
              "0   1390983141779640320 2021-05-08 10:53:18  Twitter for Android     13    1  \n",
              "1   1390982860673216512 2021-05-08 10:52:11  Twitter for Android     11    1  \n",
              "2   1390982699825852419 2021-05-08 10:51:33  Twitter for Android     41   13  \n",
              "3   1390475619973009411 2021-05-07 01:16:36  Twitter for Android      5    0  \n",
              "4   1390475200848822273 2021-05-07 01:14:56  Twitter for Android      6    0  \n",
              "5   1390475062134808581 2021-05-07 01:14:23  Twitter for Android     15    7  \n",
              "6   1390252969518526466 2021-05-06 10:31:52  Twitter for Android      1    0  \n",
              "7   1390252859329941504 2021-05-06 10:31:25  Twitter for Android      4    0  \n",
              "8   1390252574859689993 2021-05-06 10:30:18  Twitter for Android      7    5  \n",
              "9   1389848531909808128 2021-05-05 07:44:46  Twitter for Android      1    0  \n",
              "10  1389848219085983745 2021-05-05 07:43:32  Twitter for Android      5    3  \n",
              "11  1389479213338554373 2021-05-04 07:17:14  Twitter for Android      2    0  \n",
              "12  1389479120044662789 2021-05-04 07:16:52  Twitter for Android      0    0  \n",
              "13  1389479012892745732 2021-05-04 07:16:26  Twitter for Android      2    1  \n",
              "14  1389118311883952130 2021-05-03 07:23:08  Twitter for Android      1    0  \n",
              "15  1389117838342778881 2021-05-03 07:21:15  Twitter for Android      2    4  \n",
              "16  1388836455317901314 2021-05-02 12:43:08  Twitter for Android      1    0  \n",
              "17  1388395678313828357 2021-05-01 07:31:39  Twitter for Android      0    0  \n",
              "18  1383324093756231686 2021-04-17 07:38:59  Twitter for Android      2    1  \n",
              "19  1383323993487253510 2021-04-17 07:38:35  Twitter for Android      2    1  "
            ],
            "text/html": [
              "\n",
              "  <div id=\"df-dee746fa-4465-46fc-b3c9-9355b92fa0c8\">\n",
              "    <div class=\"colab-df-container\">\n",
              "      <div>\n",
              "<style scoped>\n",
              "    .dataframe tbody tr th:only-of-type {\n",
              "        vertical-align: middle;\n",
              "    }\n",
              "\n",
              "    .dataframe tbody tr th {\n",
              "        vertical-align: top;\n",
              "    }\n",
              "\n",
              "    .dataframe thead th {\n",
              "        text-align: right;\n",
              "    }\n",
              "</style>\n",
              "<table border=\"1\" class=\"dataframe\">\n",
              "  <thead>\n",
              "    <tr style=\"text-align: right;\">\n",
              "      <th></th>\n",
              "      <th>Tweets</th>\n",
              "      <th>len</th>\n",
              "      <th>ID</th>\n",
              "      <th>Date</th>\n",
              "      <th>Source</th>\n",
              "      <th>Likes</th>\n",
              "      <th>RTs</th>\n",
              "    </tr>\n",
              "  </thead>\n",
              "  <tbody>\n",
              "    <tr>\n",
              "      <th>0</th>\n",
              "      <td>Tak hanya menghasilkan sumber energi hijau, Lu...</td>\n",
              "      <td>140</td>\n",
              "      <td>1390983141779640320</td>\n",
              "      <td>2021-05-08 10:53:18</td>\n",
              "      <td>Twitter for Android</td>\n",
              "      <td>13</td>\n",
              "      <td>1</td>\n",
              "    </tr>\n",
              "    <tr>\n",
              "      <th>1</th>\n",
              "      <td>Pak Luhut mengatakan kawasan industri itu akan...</td>\n",
              "      <td>140</td>\n",
              "      <td>1390982860673216512</td>\n",
              "      <td>2021-05-08 10:52:11</td>\n",
              "      <td>Twitter for Android</td>\n",
              "      <td>11</td>\n",
              "      <td>1</td>\n",
              "    </tr>\n",
              "    <tr>\n",
              "      <th>2</th>\n",
              "      <td>Menko Marves Luhut Pandjaitan menginformasikan...</td>\n",
              "      <td>140</td>\n",
              "      <td>1390982699825852419</td>\n",
              "      <td>2021-05-08 10:51:33</td>\n",
              "      <td>Twitter for Android</td>\n",
              "      <td>41</td>\n",
              "      <td>13</td>\n",
              "    </tr>\n",
              "    <tr>\n",
              "      <th>3</th>\n",
              "      <td>Target pembangunan bendungan ini dapat rampung...</td>\n",
              "      <td>140</td>\n",
              "      <td>1390475619973009411</td>\n",
              "      <td>2021-05-07 01:16:36</td>\n",
              "      <td>Twitter for Android</td>\n",
              "      <td>5</td>\n",
              "      <td>0</td>\n",
              "    </tr>\n",
              "    <tr>\n",
              "      <th>4</th>\n",
              "      <td>Pembangunan kedua bendungan itu dinilai pentin...</td>\n",
              "      <td>140</td>\n",
              "      <td>1390475200848822273</td>\n",
              "      <td>2021-05-07 01:14:56</td>\n",
              "      <td>Twitter for Android</td>\n",
              "      <td>6</td>\n",
              "      <td>0</td>\n",
              "    </tr>\n",
              "    <tr>\n",
              "      <th>5</th>\n",
              "      <td>Menko Marves Luhut Pandjaitan meninjau langsun...</td>\n",
              "      <td>143</td>\n",
              "      <td>1390475062134808581</td>\n",
              "      <td>2021-05-07 01:14:23</td>\n",
              "      <td>Twitter for Android</td>\n",
              "      <td>15</td>\n",
              "      <td>7</td>\n",
              "    </tr>\n",
              "    <tr>\n",
              "      <th>6</th>\n",
              "      <td>Dengan peran substansial kyai dalam proses ber...</td>\n",
              "      <td>141</td>\n",
              "      <td>1390252969518526466</td>\n",
              "      <td>2021-05-06 10:31:52</td>\n",
              "      <td>Twitter for Android</td>\n",
              "      <td>1</td>\n",
              "      <td>0</td>\n",
              "    </tr>\n",
              "    <tr>\n",
              "      <th>7</th>\n",
              "      <td>\"Saya merasa berdosa sekali karena sudah berka...</td>\n",
              "      <td>139</td>\n",
              "      <td>1390252859329941504</td>\n",
              "      <td>2021-05-06 10:31:25</td>\n",
              "      <td>Twitter for Android</td>\n",
              "      <td>4</td>\n",
              "      <td>0</td>\n",
              "    </tr>\n",
              "    <tr>\n",
              "      <th>8</th>\n",
              "      <td>Menko Marves Luhut Pandjaitan melakukan kunjun...</td>\n",
              "      <td>140</td>\n",
              "      <td>1390252574859689993</td>\n",
              "      <td>2021-05-06 10:30:18</td>\n",
              "      <td>Twitter for Android</td>\n",
              "      <td>7</td>\n",
              "      <td>5</td>\n",
              "    </tr>\n",
              "    <tr>\n",
              "      <th>9</th>\n",
              "      <td>Menko Luhut berharap, semua pihak dapat mengej...</td>\n",
              "      <td>139</td>\n",
              "      <td>1389848531909808128</td>\n",
              "      <td>2021-05-05 07:44:46</td>\n",
              "      <td>Twitter for Android</td>\n",
              "      <td>1</td>\n",
              "      <td>0</td>\n",
              "    </tr>\n",
              "    <tr>\n",
              "      <th>10</th>\n",
              "      <td>Menko Marves, Luhut Pandjaitan kembali mengeva...</td>\n",
              "      <td>139</td>\n",
              "      <td>1389848219085983745</td>\n",
              "      <td>2021-05-05 07:43:32</td>\n",
              "      <td>Twitter for Android</td>\n",
              "      <td>5</td>\n",
              "      <td>3</td>\n",
              "    </tr>\n",
              "    <tr>\n",
              "      <th>11</th>\n",
              "      <td>Pada kejuaraan yang akan berlangsung di Nation...</td>\n",
              "      <td>140</td>\n",
              "      <td>1389479213338554373</td>\n",
              "      <td>2021-05-04 07:17:14</td>\n",
              "      <td>Twitter for Android</td>\n",
              "      <td>2</td>\n",
              "      <td>0</td>\n",
              "    </tr>\n",
              "    <tr>\n",
              "      <th>12</th>\n",
              "      <td>Dalam kunjungannya, pak Luhut mengaku optimist...</td>\n",
              "      <td>140</td>\n",
              "      <td>1389479120044662789</td>\n",
              "      <td>2021-05-04 07:16:52</td>\n",
              "      <td>Twitter for Android</td>\n",
              "      <td>0</td>\n",
              "      <td>0</td>\n",
              "    </tr>\n",
              "    <tr>\n",
              "      <th>13</th>\n",
              "      <td>Ketum @PBPASI Luhut Pandjaitan memantau persia...</td>\n",
              "      <td>140</td>\n",
              "      <td>1389479012892745732</td>\n",
              "      <td>2021-05-04 07:16:26</td>\n",
              "      <td>Twitter for Android</td>\n",
              "      <td>2</td>\n",
              "      <td>1</td>\n",
              "    </tr>\n",
              "    <tr>\n",
              "      <th>14</th>\n",
              "      <td>Pasalnya, pak Luhut ingin secara khusus bersil...</td>\n",
              "      <td>140</td>\n",
              "      <td>1389118311883952130</td>\n",
              "      <td>2021-05-03 07:23:08</td>\n",
              "      <td>Twitter for Android</td>\n",
              "      <td>1</td>\n",
              "      <td>0</td>\n",
              "    </tr>\n",
              "    <tr>\n",
              "      <th>15</th>\n",
              "      <td>Menko Marves Luhut Pandjaitan bersama Gubernur...</td>\n",
              "      <td>140</td>\n",
              "      <td>1389117838342778881</td>\n",
              "      <td>2021-05-03 07:21:15</td>\n",
              "      <td>Twitter for Android</td>\n",
              "      <td>2</td>\n",
              "      <td>4</td>\n",
              "    </tr>\n",
              "    <tr>\n",
              "      <th>16</th>\n",
              "      <td>SELAMAT HARI PENDIDIKAN NASIONAL\\n\\nIng Ngarso...</td>\n",
              "      <td>140</td>\n",
              "      <td>1388836455317901314</td>\n",
              "      <td>2021-05-02 12:43:08</td>\n",
              "      <td>Twitter for Android</td>\n",
              "      <td>1</td>\n",
              "      <td>0</td>\n",
              "    </tr>\n",
              "    <tr>\n",
              "      <th>17</th>\n",
              "      <td>Selamat Hari Buruh Internasional!\\n\\nSemangat ...</td>\n",
              "      <td>140</td>\n",
              "      <td>1388395678313828357</td>\n",
              "      <td>2021-05-01 07:31:39</td>\n",
              "      <td>Twitter for Android</td>\n",
              "      <td>0</td>\n",
              "      <td>0</td>\n",
              "    </tr>\n",
              "    <tr>\n",
              "      <th>18</th>\n",
              "      <td>Selain itu Del juga memberikan program beasisw...</td>\n",
              "      <td>87</td>\n",
              "      <td>1383324093756231686</td>\n",
              "      <td>2021-04-17 07:38:59</td>\n",
              "      <td>Twitter for Android</td>\n",
              "      <td>2</td>\n",
              "      <td>1</td>\n",
              "    </tr>\n",
              "    <tr>\n",
              "      <th>19</th>\n",
              "      <td>#YayasanDel sendiri bergerak di sektor pendidi...</td>\n",
              "      <td>111</td>\n",
              "      <td>1383323993487253510</td>\n",
              "      <td>2021-04-17 07:38:35</td>\n",
              "      <td>Twitter for Android</td>\n",
              "      <td>2</td>\n",
              "      <td>1</td>\n",
              "    </tr>\n",
              "  </tbody>\n",
              "</table>\n",
              "</div>\n",
              "      <button class=\"colab-df-convert\" onclick=\"convertToInteractive('df-dee746fa-4465-46fc-b3c9-9355b92fa0c8')\"\n",
              "              title=\"Convert this dataframe to an interactive table.\"\n",
              "              style=\"display:none;\">\n",
              "        \n",
              "  <svg xmlns=\"http://www.w3.org/2000/svg\" height=\"24px\"viewBox=\"0 0 24 24\"\n",
              "       width=\"24px\">\n",
              "    <path d=\"M0 0h24v24H0V0z\" fill=\"none\"/>\n",
              "    <path d=\"M18.56 5.44l.94 2.06.94-2.06 2.06-.94-2.06-.94-.94-2.06-.94 2.06-2.06.94zm-11 1L8.5 8.5l.94-2.06 2.06-.94-2.06-.94L8.5 2.5l-.94 2.06-2.06.94zm10 10l.94 2.06.94-2.06 2.06-.94-2.06-.94-.94-2.06-.94 2.06-2.06.94z\"/><path d=\"M17.41 7.96l-1.37-1.37c-.4-.4-.92-.59-1.43-.59-.52 0-1.04.2-1.43.59L10.3 9.45l-7.72 7.72c-.78.78-.78 2.05 0 2.83L4 21.41c.39.39.9.59 1.41.59.51 0 1.02-.2 1.41-.59l7.78-7.78 2.81-2.81c.8-.78.8-2.07 0-2.86zM5.41 20L4 18.59l7.72-7.72 1.47 1.35L5.41 20z\"/>\n",
              "  </svg>\n",
              "      </button>\n",
              "      \n",
              "  <style>\n",
              "    .colab-df-container {\n",
              "      display:flex;\n",
              "      flex-wrap:wrap;\n",
              "      gap: 12px;\n",
              "    }\n",
              "\n",
              "    .colab-df-convert {\n",
              "      background-color: #E8F0FE;\n",
              "      border: none;\n",
              "      border-radius: 50%;\n",
              "      cursor: pointer;\n",
              "      display: none;\n",
              "      fill: #1967D2;\n",
              "      height: 32px;\n",
              "      padding: 0 0 0 0;\n",
              "      width: 32px;\n",
              "    }\n",
              "\n",
              "    .colab-df-convert:hover {\n",
              "      background-color: #E2EBFA;\n",
              "      box-shadow: 0px 1px 2px rgba(60, 64, 67, 0.3), 0px 1px 3px 1px rgba(60, 64, 67, 0.15);\n",
              "      fill: #174EA6;\n",
              "    }\n",
              "\n",
              "    [theme=dark] .colab-df-convert {\n",
              "      background-color: #3B4455;\n",
              "      fill: #D2E3FC;\n",
              "    }\n",
              "\n",
              "    [theme=dark] .colab-df-convert:hover {\n",
              "      background-color: #434B5C;\n",
              "      box-shadow: 0px 1px 3px 1px rgba(0, 0, 0, 0.15);\n",
              "      filter: drop-shadow(0px 1px 2px rgba(0, 0, 0, 0.3));\n",
              "      fill: #FFFFFF;\n",
              "    }\n",
              "  </style>\n",
              "\n",
              "      <script>\n",
              "        const buttonEl =\n",
              "          document.querySelector('#df-dee746fa-4465-46fc-b3c9-9355b92fa0c8 button.colab-df-convert');\n",
              "        buttonEl.style.display =\n",
              "          google.colab.kernel.accessAllowed ? 'block' : 'none';\n",
              "\n",
              "        async function convertToInteractive(key) {\n",
              "          const element = document.querySelector('#df-dee746fa-4465-46fc-b3c9-9355b92fa0c8');\n",
              "          const dataTable =\n",
              "            await google.colab.kernel.invokeFunction('convertToInteractive',\n",
              "                                                     [key], {});\n",
              "          if (!dataTable) return;\n",
              "\n",
              "          const docLinkHtml = 'Like what you see? Visit the ' +\n",
              "            '<a target=\"_blank\" href=https://colab.research.google.com/notebooks/data_table.ipynb>data table notebook</a>'\n",
              "            + ' to learn more about interactive tables.';\n",
              "          element.innerHTML = '';\n",
              "          dataTable['output_type'] = 'display_data';\n",
              "          await google.colab.output.renderOutput(dataTable, element);\n",
              "          const docLink = document.createElement('div');\n",
              "          docLink.innerHTML = docLinkHtml;\n",
              "          element.appendChild(docLink);\n",
              "        }\n",
              "      </script>\n",
              "    </div>\n",
              "  </div>\n",
              "  "
            ]
          },
          "metadata": {}
        }
      ]
    },
    {
      "cell_type": "markdown",
      "source": [
        "**2. Visualisasi dan statistik dasar**"
      ],
      "metadata": {
        "id": "rwr-S5IF6WhO"
      }
    },
    {
      "cell_type": "markdown",
      "source": [
        "2.1. Rata-rata dan popularitas\n",
        "Pertama-tama kami ingin menghitung beberapa data statistik dasar, seperti rata-rata panjang karakter semua tweet, tweet dengan lebih banyak suka dan retweet, dll."
      ],
      "metadata": {
        "id": "JZLICLxB6jkQ"
      }
    },
    {
      "cell_type": "code",
      "source": [
        "# We extract the mean of lenghts:\n",
        "mean = np.mean(data['len'])\n",
        "\n",
        "print(\"The lenght's average in tweets: {}\".format(mean))"
      ],
      "metadata": {
        "colab": {
          "base_uri": "https://localhost:8080/"
        },
        "id": "X61n3MXpFRB-",
        "outputId": "dbd48410-bb2a-4160-ccfc-3b21cc2a1dcd"
      },
      "execution_count": null,
      "outputs": [
        {
          "output_type": "stream",
          "name": "stdout",
          "text": [
            "The lenght's average in tweets: 136.98692810457516\n"
          ]
        }
      ]
    },
    {
      "cell_type": "code",
      "source": [
        "# We extract the tweet with more FAVs and more RTs:\n",
        "\n",
        "fav_max = np.max(data['Likes'])\n",
        "rt_max  = np.max(data['RTs'])\n",
        "\n",
        "fav = data[data.Likes == fav_max].index[0]\n",
        "rt  = data[data.RTs == rt_max].index[0]\n",
        "\n",
        "# Max FAVs:\n",
        "print(\"The tweet with more likes is: \\n{}\".format(data['Tweets'][fav]))\n",
        "print(\"Number of likes: {}\".format(fav_max))\n",
        "print(\"{} characters.\\n\".format(data['len'][fav]))\n",
        "\n",
        "# Max RTs:\n",
        "print(\"The tweet with more retweets is: \\n{}\".format(data['Tweets'][rt]))\n",
        "print(\"Number of retweets: {}\".format(rt_max))\n",
        "print(\"{} characters.\\n\".format(data['len'][rt]))"
      ],
      "metadata": {
        "colab": {
          "base_uri": "https://localhost:8080/"
        },
        "id": "1t1shkApFW9_",
        "outputId": "0d2813be-cda9-4358-bda2-d60816b0e082"
      },
      "execution_count": null,
      "outputs": [
        {
          "output_type": "stream",
          "name": "stdout",
          "text": [
            "The tweet with more likes is: \n",
            "Menko Marves Luhut Pandjaitan menginformasikan, jika Indonesia akan mempunyai kawasan industri hijau terintegrasi d… https://t.co/AcKZ3oodpB\n",
            "Number of likes: 41\n",
            "140 characters.\n",
            "\n",
            "The tweet with more retweets is: \n",
            "Menko Marves Luhut Pandjaitan menginformasikan, jika Indonesia akan mempunyai kawasan industri hijau terintegrasi d… https://t.co/AcKZ3oodpB\n",
            "Number of retweets: 13\n",
            "140 characters.\n",
            "\n"
          ]
        }
      ]
    },
    {
      "cell_type": "markdown",
      "source": [
        "2.2. Time series"
      ],
      "metadata": {
        "id": "qU6IgH-e680r"
      }
    },
    {
      "cell_type": "markdown",
      "source": [
        "Karena kita memiliki seluruh vektor dengan tanggal pembuatan, kita dapat membuat deret waktu sesuai dengan panjang tweet, suka, dan retweet."
      ],
      "metadata": {
        "id": "2Zz0CtRx7G0b"
      }
    },
    {
      "cell_type": "code",
      "source": [
        "# We create time series for data:\n",
        "\n",
        "tlen = pd.Series(data=data['len'].values, index=data['Date'])\n",
        "tfav = pd.Series(data=data['Likes'].values, index=data['Date'])\n",
        "tret = pd.Series(data=data['RTs'].values, index=data['Date'])"
      ],
      "metadata": {
        "id": "EvYkwzPzFhHK"
      },
      "execution_count": null,
      "outputs": []
    },
    {
      "cell_type": "code",
      "source": [
        "# Lenghts along time:\n",
        "tlen.plot(figsize=(16,4), color='r');"
      ],
      "metadata": {
        "colab": {
          "base_uri": "https://localhost:8080/",
          "height": 285
        },
        "id": "bOXIRYUFFk5Q",
        "outputId": "af90e623-5fa4-4092-c66e-fe703b0809cd"
      },
      "execution_count": null,
      "outputs": [
        {
          "output_type": "display_data",
          "data": {
            "text/plain": [
              "<Figure size 1152x288 with 1 Axes>"
            ],
            "image/png": "[encoded data removed]"
          },
          "metadata": {
            "needs_background": "light"
          }
        }
      ]
    },
    {
      "cell_type": "code",
      "source": [
        "# Likes vs retweets visualization:\n",
        "tfav.plot(figsize=(16,4), label=\"Likes\", legend=True)\n",
        "tret.plot(figsize=(16,4), label=\"Retweets\", legend=True);"
      ],
      "metadata": {
        "colab": {
          "base_uri": "https://localhost:8080/",
          "height": 285
        },
        "id": "nMcXIH2-FqnE",
        "outputId": "07077156-1290-4340-bc9e-0d0e2e6a04a0"
      },
      "execution_count": null,
      "outputs": [
        {
          "output_type": "display_data",
          "data": {
            "text/plain": [
              "<Figure size 1152x288 with 1 Axes>"
            ],
            "image/png": "[encoded data removed]"
          },
          "metadata": {
            "needs_background": "light"
          }
        }
      ]
    },
    {
      "cell_type": "markdown",
      "source": [
        "2.3. Pie charts of sources"
      ],
      "metadata": {
        "id": "yezBNIdi7dVT"
      }
    },
    {
      "cell_type": "code",
      "source": [
        "# We obtain all possible sources:\n",
        "sources = []\n",
        "for source in data['Source']:\n",
        "    if source not in sources:\n",
        "        sources.append(source)\n",
        "\n",
        "# We print sources list:\n",
        "print(\"Creation of content sources:\")\n",
        "for source in sources:\n",
        "    print(\"* {}\".format(source))"
      ],
      "metadata": {
        "colab": {
          "base_uri": "https://localhost:8080/"
        },
        "id": "TKhUfFXPFwhb",
        "outputId": "81b735e2-4869-4c8d-ce7b-ed3e5f9e9d2d"
      },
      "execution_count": null,
      "outputs": [
        {
          "output_type": "stream",
          "name": "stdout",
          "text": [
            "Creation of content sources:\n",
            "* Twitter for Android\n",
            "* Twitter Web App\n"
          ]
        }
      ]
    },
    {
      "cell_type": "code",
      "source": [
        "# We create a numpy vector mapped to labels:\n",
        "percent = np.zeros(len(sources))\n",
        "\n",
        "for source in data['Source']:\n",
        "    for index in range(len(sources)):\n",
        "        if source == sources[index]:\n",
        "            percent[index] += 1\n",
        "            pass\n",
        "\n",
        "percent /= 100\n",
        "\n",
        "# Pie chart:\n",
        "pie_chart = pd.Series(percent, index=sources, name='Sources')\n",
        "pie_chart.plot.pie(fontsize=11, autopct='%.2f', figsize=(6, 6));"
      ],
      "metadata": {
        "colab": {
          "base_uri": "https://localhost:8080/",
          "height": 357
        },
        "id": "ygtDssw-F3dR",
        "outputId": "7d4204a5-70b5-4dbf-bad1-2c95cf881587"
      },
      "execution_count": null,
      "outputs": [
        {
          "output_type": "display_data",
          "data": {
            "text/plain": [
              "<Figure size 432x432 with 1 Axes>"
            ],
            "image/png": "[encoded data removed]"
          },
          "metadata": {}
        }
      ]
    },
    {
      "cell_type": "markdown",
      "source": [
        "3. Sentiment analysis"
      ],
      "metadata": {
        "id": "6iuW5UVZ7jiH"
      }
    },
    {
      "cell_type": "markdown",
      "source": [
        "3.1. Importing textblob"
      ],
      "metadata": {
        "id": "bXjJ_wI57p3T"
      }
    },
    {
      "cell_type": "code",
      "source": [
        "from textblob import TextBlob\n",
        "import re\n",
        "\n",
        "def clean_tweet(tweet):\n",
        "    '''\n",
        "    Utility function to clean the text in a tweet by removing \n",
        "    links and special characters using regex.\n",
        "    '''\n",
        "    return ' '.join(re.sub(\"(@[A-Za-z0-9]+)|([^0-9A-Za-z \\t])|(\\w+:\\/\\/\\S+)\", \" \", tweet).split())\n",
        "\n",
        "def analize_sentiment(tweet):\n",
        "    '''\n",
        "    Utility function to classify the polarity of a tweet\n",
        "    using textblob.\n",
        "    '''\n",
        "    analysis = TextBlob(clean_tweet(tweet))\n",
        "    if analysis.sentiment.polarity > 0:\n",
        "        return 1\n",
        "    elif analysis.sentiment.polarity == 0:\n",
        "        return 0\n",
        "    else:\n",
        "        return -1"
      ],
      "metadata": {
        "id": "e-1R_-r9F9zq"
      },
      "execution_count": null,
      "outputs": []
    },
    {
      "cell_type": "code",
      "source": [
        "# We create a column with the result of the analysis:\n",
        "data['SA'] = np.array([ analize_sentiment(tweet) for tweet in data['Tweets'] ])\n",
        "\n",
        "# We display the updated dataframe with the new column:\n",
        "display(data.head(20))"
      ],
      "metadata": {
        "colab": {
          "base_uri": "https://localhost:8080/",
          "height": 677
        },
        "id": "aQ5Ynfqau0oY",
        "outputId": "ca2f6b46-5dc2-415a-e63a-352e801ad7d6"
      },
      "execution_count": null,
      "outputs": [
        {
          "output_type": "display_data",
          "data": {
            "text/plain": [
              "                                               Tweets  len  \\\n",
              "0   Tak hanya menghasilkan sumber energi hijau, Lu...  140   \n",
              "1   Pak Luhut mengatakan kawasan industri itu akan...  140   \n",
              "2   Menko Marves Luhut Pandjaitan menginformasikan...  140   \n",
              "3   Target pembangunan bendungan ini dapat rampung...  140   \n",
              "4   Pembangunan kedua bendungan itu dinilai pentin...  140   \n",
              "5   Menko Marves Luhut Pandjaitan meninjau langsun...  143   \n",
              "6   Dengan peran substansial kyai dalam proses ber...  141   \n",
              "7   \"Saya merasa berdosa sekali karena sudah berka...  139   \n",
              "8   Menko Marves Luhut Pandjaitan melakukan kunjun...  140   \n",
              "9   Menko Luhut berharap, semua pihak dapat mengej...  139   \n",
              "10  Menko Marves, Luhut Pandjaitan kembali mengeva...  139   \n",
              "11  Pada kejuaraan yang akan berlangsung di Nation...  140   \n",
              "12  Dalam kunjungannya, pak Luhut mengaku optimist...  140   \n",
              "13  Ketum @PBPASI Luhut Pandjaitan memantau persia...  140   \n",
              "14  Pasalnya, pak Luhut ingin secara khusus bersil...  140   \n",
              "15  Menko Marves Luhut Pandjaitan bersama Gubernur...  140   \n",
              "16  SELAMAT HARI PENDIDIKAN NASIONAL\\n\\nIng Ngarso...  140   \n",
              "17  Selamat Hari Buruh Internasional!\\n\\nSemangat ...  140   \n",
              "18  Selain itu Del juga memberikan program beasisw...   87   \n",
              "19  #YayasanDel sendiri bergerak di sektor pendidi...  111   \n",
              "\n",
              "                     ID                Date               Source  Likes  RTs  \\\n",
              "0   1390983141779640320 2021-05-08 10:53:18  Twitter for Android     13    1   \n",
              "1   1390982860673216512 2021-05-08 10:52:11  Twitter for Android     11    1   \n",
              "2   1390982699825852419 2021-05-08 10:51:33  Twitter for Android     41   13   \n",
              "3   1390475619973009411 2021-05-07 01:16:36  Twitter for Android      5    0   \n",
              "4   1390475200848822273 2021-05-07 01:14:56  Twitter for Android      6    0   \n",
              "5   1390475062134808581 2021-05-07 01:14:23  Twitter for Android     15    7   \n",
              "6   1390252969518526466 2021-05-06 10:31:52  Twitter for Android      1    0   \n",
              "7   1390252859329941504 2021-05-06 10:31:25  Twitter for Android      4    0   \n",
              "8   1390252574859689993 2021-05-06 10:30:18  Twitter for Android      7    5   \n",
              "9   1389848531909808128 2021-05-05 07:44:46  Twitter for Android      1    0   \n",
              "10  1389848219085983745 2021-05-05 07:43:32  Twitter for Android      5    3   \n",
              "11  1389479213338554373 2021-05-04 07:17:14  Twitter for Android      2    0   \n",
              "12  1389479120044662789 2021-05-04 07:16:52  Twitter for Android      0    0   \n",
              "13  1389479012892745732 2021-05-04 07:16:26  Twitter for Android      2    1   \n",
              "14  1389118311883952130 2021-05-03 07:23:08  Twitter for Android      1    0   \n",
              "15  1389117838342778881 2021-05-03 07:21:15  Twitter for Android      2    4   \n",
              "16  1388836455317901314 2021-05-02 12:43:08  Twitter for Android      1    0   \n",
              "17  1388395678313828357 2021-05-01 07:31:39  Twitter for Android      0    0   \n",
              "18  1383324093756231686 2021-04-17 07:38:59  Twitter for Android      2    1   \n",
              "19  1383323993487253510 2021-04-17 07:38:35  Twitter for Android      2    1   \n",
              "\n",
              "    SA  \n",
              "0    0  \n",
              "1    0  \n",
              "2    0  \n",
              "3    0  \n",
              "4    0  \n",
              "5    0  \n",
              "6    0  \n",
              "7    0  \n",
              "8    0  \n",
              "9    0  \n",
              "10   1  \n",
              "11   0  \n",
              "12   0  \n",
              "13   0  \n",
              "14   0  \n",
              "15   0  \n",
              "16   0  \n",
              "17   0  \n",
              "18   0  \n",
              "19   0  "
            ],
            "text/html": [
              "\n",
              "  <div id=\"df-648c8128-bbfe-4d23-8218-463ae4219628\">\n",
              "    <div class=\"colab-df-container\">\n",
              "      <div>\n",
              "<style scoped>\n",
              "    .dataframe tbody tr th:only-of-type {\n",
              "        vertical-align: middle;\n",
              "    }\n",
              "\n",
              "    .dataframe tbody tr th {\n",
              "        vertical-align: top;\n",
              "    }\n",
              "\n",
              "    .dataframe thead th {\n",
              "        text-align: right;\n",
              "    }\n",
              "</style>\n",
              "<table border=\"1\" class=\"dataframe\">\n",
              "  <thead>\n",
              "    <tr style=\"text-align: right;\">\n",
              "      <th></th>\n",
              "      <th>Tweets</th>\n",
              "      <th>len</th>\n",
              "      <th>ID</th>\n",
              "      <th>Date</th>\n",
              "      <th>Source</th>\n",
              "      <th>Likes</th>\n",
              "      <th>RTs</th>\n",
              "      <th>SA</th>\n",
              "    </tr>\n",
              "  </thead>\n",
              "  <tbody>\n",
              "    <tr>\n",
              "      <th>0</th>\n",
              "      <td>Tak hanya menghasilkan sumber energi hijau, Lu...</td>\n",
              "      <td>140</td>\n",
              "      <td>1390983141779640320</td>\n",
              "      <td>2021-05-08 10:53:18</td>\n",
              "      <td>Twitter for Android</td>\n",
              "      <td>13</td>\n",
              "      <td>1</td>\n",
              "      <td>0</td>\n",
              "    </tr>\n",
              "    <tr>\n",
              "      <th>1</th>\n",
              "      <td>Pak Luhut mengatakan kawasan industri itu akan...</td>\n",
              "      <td>140</td>\n",
              "      <td>1390982860673216512</td>\n",
              "      <td>2021-05-08 10:52:11</td>\n",
              "      <td>Twitter for Android</td>\n",
              "      <td>11</td>\n",
              "      <td>1</td>\n",
              "      <td>0</td>\n",
              "    </tr>\n",
              "    <tr>\n",
              "      <th>2</th>\n",
              "      <td>Menko Marves Luhut Pandjaitan menginformasikan...</td>\n",
              "      <td>140</td>\n",
              "      <td>1390982699825852419</td>\n",
              "      <td>2021-05-08 10:51:33</td>\n",
              "      <td>Twitter for Android</td>\n",
              "      <td>41</td>\n",
              "      <td>13</td>\n",
              "      <td>0</td>\n",
              "    </tr>\n",
              "    <tr>\n",
              "      <th>3</th>\n",
              "      <td>Target pembangunan bendungan ini dapat rampung...</td>\n",
              "      <td>140</td>\n",
              "      <td>1390475619973009411</td>\n",
              "      <td>2021-05-07 01:16:36</td>\n",
              "      <td>Twitter for Android</td>\n",
              "      <td>5</td>\n",
              "      <td>0</td>\n",
              "      <td>0</td>\n",
              "    </tr>\n",
              "    <tr>\n",
              "      <th>4</th>\n",
              "      <td>Pembangunan kedua bendungan itu dinilai pentin...</td>\n",
              "      <td>140</td>\n",
              "      <td>1390475200848822273</td>\n",
              "      <td>2021-05-07 01:14:56</td>\n",
              "      <td>Twitter for Android</td>\n",
              "      <td>6</td>\n",
              "      <td>0</td>\n",
              "      <td>0</td>\n",
              "    </tr>\n",
              "    <tr>\n",
              "      <th>5</th>\n",
              "      <td>Menko Marves Luhut Pandjaitan meninjau langsun...</td>\n",
              "      <td>143</td>\n",
              "      <td>1390475062134808581</td>\n",
              "      <td>2021-05-07 01:14:23</td>\n",
              "      <td>Twitter for Android</td>\n",
              "      <td>15</td>\n",
              "      <td>7</td>\n",
              "      <td>0</td>\n",
              "    </tr>\n",
              "    <tr>\n",
              "      <th>6</th>\n",
              "      <td>Dengan peran substansial kyai dalam proses ber...</td>\n",
              "      <td>141</td>\n",
              "      <td>1390252969518526466</td>\n",
              "      <td>2021-05-06 10:31:52</td>\n",
              "      <td>Twitter for Android</td>\n",
              "      <td>1</td>\n",
              "      <td>0</td>\n",
              "      <td>0</td>\n",
              "    </tr>\n",
              "    <tr>\n",
              "      <th>7</th>\n",
              "      <td>\"Saya merasa berdosa sekali karena sudah berka...</td>\n",
              "      <td>139</td>\n",
              "      <td>1390252859329941504</td>\n",
              "      <td>2021-05-06 10:31:25</td>\n",
              "      <td>Twitter for Android</td>\n",
              "      <td>4</td>\n",
              "      <td>0</td>\n",
              "      <td>0</td>\n",
              "    </tr>\n",
              "    <tr>\n",
              "      <th>8</th>\n",
              "      <td>Menko Marves Luhut Pandjaitan melakukan kunjun...</td>\n",
              "      <td>140</td>\n",
              "      <td>1390252574859689993</td>\n",
              "      <td>2021-05-06 10:30:18</td>\n",
              "      <td>Twitter for Android</td>\n",
              "      <td>7</td>\n",
              "      <td>5</td>\n",
              "      <td>0</td>\n",
              "    </tr>\n",
              "    <tr>\n",
              "      <th>9</th>\n",
              "      <td>Menko Luhut berharap, semua pihak dapat mengej...</td>\n",
              "      <td>139</td>\n",
              "      <td>1389848531909808128</td>\n",
              "      <td>2021-05-05 07:44:46</td>\n",
              "      <td>Twitter for Android</td>\n",
              "      <td>1</td>\n",
              "      <td>0</td>\n",
              "      <td>0</td>\n",
              "    </tr>\n",
              "    <tr>\n",
              "      <th>10</th>\n",
              "      <td>Menko Marves, Luhut Pandjaitan kembali mengeva...</td>\n",
              "      <td>139</td>\n",
              "      <td>1389848219085983745</td>\n",
              "      <td>2021-05-05 07:43:32</td>\n",
              "      <td>Twitter for Android</td>\n",
              "      <td>5</td>\n",
              "      <td>3</td>\n",
              "      <td>1</td>\n",
              "    </tr>\n",
              "    <tr>\n",
              "      <th>11</th>\n",
              "      <td>Pada kejuaraan yang akan berlangsung di Nation...</td>\n",
              "      <td>140</td>\n",
              "      <td>1389479213338554373</td>\n",
              "      <td>2021-05-04 07:17:14</td>\n",
              "      <td>Twitter for Android</td>\n",
              "      <td>2</td>\n",
              "      <td>0</td>\n",
              "      <td>0</td>\n",
              "    </tr>\n",
              "    <tr>\n",
              "      <th>12</th>\n",
              "      <td>Dalam kunjungannya, pak Luhut mengaku optimist...</td>\n",
              "      <td>140</td>\n",
              "      <td>1389479120044662789</td>\n",
              "      <td>2021-05-04 07:16:52</td>\n",
              "      <td>Twitter for Android</td>\n",
              "      <td>0</td>\n",
              "      <td>0</td>\n",
              "      <td>0</td>\n",
              "    </tr>\n",
              "    <tr>\n",
              "      <th>13</th>\n",
              "      <td>Ketum @PBPASI Luhut Pandjaitan memantau persia...</td>\n",
              "      <td>140</td>\n",
              "      <td>1389479012892745732</td>\n",
              "      <td>2021-05-04 07:16:26</td>\n",
              "      <td>Twitter for Android</td>\n",
              "      <td>2</td>\n",
              "      <td>1</td>\n",
              "      <td>0</td>\n",
              "    </tr>\n",
              "    <tr>\n",
              "      <th>14</th>\n",
              "      <td>Pasalnya, pak Luhut ingin secara khusus bersil...</td>\n",
              "      <td>140</td>\n",
              "      <td>1389118311883952130</td>\n",
              "      <td>2021-05-03 07:23:08</td>\n",
              "      <td>Twitter for Android</td>\n",
              "      <td>1</td>\n",
              "      <td>0</td>\n",
              "      <td>0</td>\n",
              "    </tr>\n",
              "    <tr>\n",
              "      <th>15</th>\n",
              "      <td>Menko Marves Luhut Pandjaitan bersama Gubernur...</td>\n",
              "      <td>140</td>\n",
              "      <td>1389117838342778881</td>\n",
              "      <td>2021-05-03 07:21:15</td>\n",
              "      <td>Twitter for Android</td>\n",
              "      <td>2</td>\n",
              "      <td>4</td>\n",
              "      <td>0</td>\n",
              "    </tr>\n",
              "    <tr>\n",
              "      <th>16</th>\n",
              "      <td>SELAMAT HARI PENDIDIKAN NASIONAL\\n\\nIng Ngarso...</td>\n",
              "      <td>140</td>\n",
              "      <td>1388836455317901314</td>\n",
              "      <td>2021-05-02 12:43:08</td>\n",
              "      <td>Twitter for Android</td>\n",
              "      <td>1</td>\n",
              "      <td>0</td>\n",
              "      <td>0</td>\n",
              "    </tr>\n",
              "    <tr>\n",
              "      <th>17</th>\n",
              "      <td>Selamat Hari Buruh Internasional!\\n\\nSemangat ...</td>\n",
              "      <td>140</td>\n",
              "      <td>1388395678313828357</td>\n",
              "      <td>2021-05-01 07:31:39</td>\n",
              "      <td>Twitter for Android</td>\n",
              "      <td>0</td>\n",
              "      <td>0</td>\n",
              "      <td>0</td>\n",
              "    </tr>\n",
              "    <tr>\n",
              "      <th>18</th>\n",
              "      <td>Selain itu Del juga memberikan program beasisw...</td>\n",
              "      <td>87</td>\n",
              "      <td>1383324093756231686</td>\n",
              "      <td>2021-04-17 07:38:59</td>\n",
              "      <td>Twitter for Android</td>\n",
              "      <td>2</td>\n",
              "      <td>1</td>\n",
              "      <td>0</td>\n",
              "    </tr>\n",
              "    <tr>\n",
              "      <th>19</th>\n",
              "      <td>#YayasanDel sendiri bergerak di sektor pendidi...</td>\n",
              "      <td>111</td>\n",
              "      <td>1383323993487253510</td>\n",
              "      <td>2021-04-17 07:38:35</td>\n",
              "      <td>Twitter for Android</td>\n",
              "      <td>2</td>\n",
              "      <td>1</td>\n",
              "      <td>0</td>\n",
              "    </tr>\n",
              "  </tbody>\n",
              "</table>\n",
              "</div>\n",
              "      <button class=\"colab-df-convert\" onclick=\"convertToInteractive('df-648c8128-bbfe-4d23-8218-463ae4219628')\"\n",
              "              title=\"Convert this dataframe to an interactive table.\"\n",
              "              style=\"display:none;\">\n",
              "        \n",
              "  <svg xmlns=\"http://www.w3.org/2000/svg\" height=\"24px\"viewBox=\"0 0 24 24\"\n",
              "       width=\"24px\">\n",
              "    <path d=\"M0 0h24v24H0V0z\" fill=\"none\"/>\n",
              "    <path d=\"M18.56 5.44l.94 2.06.94-2.06 2.06-.94-2.06-.94-.94-2.06-.94 2.06-2.06.94zm-11 1L8.5 8.5l.94-2.06 2.06-.94-2.06-.94L8.5 2.5l-.94 2.06-2.06.94zm10 10l.94 2.06.94-2.06 2.06-.94-2.06-.94-.94-2.06-.94 2.06-2.06.94z\"/><path d=\"M17.41 7.96l-1.37-1.37c-.4-.4-.92-.59-1.43-.59-.52 0-1.04.2-1.43.59L10.3 9.45l-7.72 7.72c-.78.78-.78 2.05 0 2.83L4 21.41c.39.39.9.59 1.41.59.51 0 1.02-.2 1.41-.59l7.78-7.78 2.81-2.81c.8-.78.8-2.07 0-2.86zM5.41 20L4 18.59l7.72-7.72 1.47 1.35L5.41 20z\"/>\n",
              "  </svg>\n",
              "      </button>\n",
              "      \n",
              "  <style>\n",
              "    .colab-df-container {\n",
              "      display:flex;\n",
              "      flex-wrap:wrap;\n",
              "      gap: 12px;\n",
              "    }\n",
              "\n",
              "    .colab-df-convert {\n",
              "      background-color: #E8F0FE;\n",
              "      border: none;\n",
              "      border-radius: 50%;\n",
              "      cursor: pointer;\n",
              "      display: none;\n",
              "      fill: #1967D2;\n",
              "      height: 32px;\n",
              "      padding: 0 0 0 0;\n",
              "      width: 32px;\n",
              "    }\n",
              "\n",
              "    .colab-df-convert:hover {\n",
              "      background-color: #E2EBFA;\n",
              "      box-shadow: 0px 1px 2px rgba(60, 64, 67, 0.3), 0px 1px 3px 1px rgba(60, 64, 67, 0.15);\n",
              "      fill: #174EA6;\n",
              "    }\n",
              "\n",
              "    [theme=dark] .colab-df-convert {\n",
              "      background-color: #3B4455;\n",
              "      fill: #D2E3FC;\n",
              "    }\n",
              "\n",
              "    [theme=dark] .colab-df-convert:hover {\n",
              "      background-color: #434B5C;\n",
              "      box-shadow: 0px 1px 3px 1px rgba(0, 0, 0, 0.15);\n",
              "      filter: drop-shadow(0px 1px 2px rgba(0, 0, 0, 0.3));\n",
              "      fill: #FFFFFF;\n",
              "    }\n",
              "  </style>\n",
              "\n",
              "      <script>\n",
              "        const buttonEl =\n",
              "          document.querySelector('#df-648c8128-bbfe-4d23-8218-463ae4219628 button.colab-df-convert');\n",
              "        buttonEl.style.display =\n",
              "          google.colab.kernel.accessAllowed ? 'block' : 'none';\n",
              "\n",
              "        async function convertToInteractive(key) {\n",
              "          const element = document.querySelector('#df-648c8128-bbfe-4d23-8218-463ae4219628');\n",
              "          const dataTable =\n",
              "            await google.colab.kernel.invokeFunction('convertToInteractive',\n",
              "                                                     [key], {});\n",
              "          if (!dataTable) return;\n",
              "\n",
              "          const docLinkHtml = 'Like what you see? Visit the ' +\n",
              "            '<a target=\"_blank\" href=https://colab.research.google.com/notebooks/data_table.ipynb>data table notebook</a>'\n",
              "            + ' to learn more about interactive tables.';\n",
              "          element.innerHTML = '';\n",
              "          dataTable['output_type'] = 'display_data';\n",
              "          await google.colab.output.renderOutput(dataTable, element);\n",
              "          const docLink = document.createElement('div');\n",
              "          docLink.innerHTML = docLinkHtml;\n",
              "          element.appendChild(docLink);\n",
              "        }\n",
              "      </script>\n",
              "    </div>\n",
              "  </div>\n",
              "  "
            ]
          },
          "metadata": {}
        }
      ]
    },
    {
      "cell_type": "markdown",
      "source": [
        "3.2. Analyzing the results"
      ],
      "metadata": {
        "id": "_NxOQqow8FUt"
      }
    },
    {
      "cell_type": "code",
      "source": [
        "# We construct lists with classified tweets:\n",
        "\n",
        "pos_tweets = [ tweet for index, tweet in enumerate(data['Tweets']) if data['SA'][index] > 0]\n",
        "neu_tweets = [ tweet for index, tweet in enumerate(data['Tweets']) if data['SA'][index] == 0]\n",
        "neg_tweets = [ tweet for index, tweet in enumerate(data['Tweets']) if data['SA'][index] < 0]"
      ],
      "metadata": {
        "id": "Vgg3qoGuu_xx"
      },
      "execution_count": null,
      "outputs": []
    },
    {
      "cell_type": "code",
      "source": [
        "# We print percentages:\n",
        "\n",
        "print(\"Percentage of positive tweets: {}%\".format(len(pos_tweets)*100/len(data['Tweets'])))\n",
        "print(\"Percentage of neutral tweets: {}%\".format(len(neu_tweets)*100/len(data['Tweets'])))\n",
        "print(\"Percentage de negative tweets: {}%\".format(len(neg_tweets)*100/len(data['Tweets'])))"
      ],
      "metadata": {
        "colab": {
          "base_uri": "https://localhost:8080/"
        },
        "id": "jDNQKve-vEQV",
        "outputId": "a24436ae-3c0e-4964-d27d-82c15f2fade6"
      },
      "execution_count": null,
      "outputs": [
        {
          "output_type": "stream",
          "name": "stdout",
          "text": [
            "Percentage of positive tweets: 0.6535947712418301%\n",
            "Percentage of neutral tweets: 99.34640522875817%\n",
            "Percentage de negative tweets: 0.0%\n"
          ]
        }
      ]
    }
  ]
}